{
  "nbformat": 4,
  "nbformat_minor": 0,
  "metadata": {
    "colab": {
      "name": "sugurunaresh111@gmail_CS2_EDA_V1.ipynb",
      "provenance": [],
      "collapsed_sections": []
    },
    "kernelspec": {
      "name": "python3",
      "display_name": "Python 3"
    },
    "language_info": {
      "name": "python"
    }
  },
  "cells": [
    {
      "cell_type": "code",
      "metadata": {
        "id": "kgcQ_HPxvtqn"
      },
      "source": [
        "import warnings\n",
        "import numpy as np\n",
        "import pandas as pd\n",
        "import seaborn as sns\n",
        "import os\n",
        "from matplotlib import pyplot as plt\n",
        "\n"
      ],
      "execution_count": 6,
      "outputs": []
    },
    {
      "cell_type": "markdown",
      "metadata": {
        "id": "Xd-mrRL-woDa"
      },
      "source": [
        "# Business Problem:"
      ]
    },
    {
      "cell_type": "markdown",
      "metadata": {
        "id": "IsVdYPb4wohK"
      },
      "source": [
        "CommonLit, Inc., is a nonprofit education technology organization serving over 20\n",
        "million teachers and students with free digital reading and writing lessons for grades\n",
        "3-12. Together with Georgia State University, an R1 public research university in\n",
        "Atlanta, they are challenging Kagglers to improve readability rating methods.\n",
        "\n",
        "\n",
        "\n",
        "\n",
        "Currently, most educational texts are matched to readers using traditional readability\n",
        "methods or commercially available formulas. However, each has its issues. Tools like\n",
        "Flesch-Kincaid Grade Level are based on weak proxies of text decoding (i.e.,\n",
        "characters or syllables per word) and syntactic complexity (i.e., number or words per\n",
        "sentence). As a result, they lack construct and theoretical validity. At the same time,\n",
        "commercially available formulas, such as Lexile, can be cost-prohibitive, lack suitable\n",
        "validation studies, and suffer from transparency issues when the formula's features\n",
        "aren't publicly available.\n",
        "\n",
        "\n",
        "\n",
        "\n",
        "\n",
        "So the CommonLit organization conducted this challenge to use the Machine learning\n",
        "skills to rate the educational texts and engage the students with texts of the right level of\n",
        "challenge which can help them to develop good reading skills.\n",
        "In this competition, we shall build the ML models to rate the complexity of reading\n",
        "passages for grade 3-12 classroom use with the help of the vast dataset provided that\n",
        "includes readers from a wide variety of age groups and a large collection of texts taken\n",
        "from various domains."
      ]
    },
    {
      "cell_type": "markdown",
      "metadata": {
        "id": "4RU7VwgSw1b0"
      },
      "source": [
        "#Performance metric:"
      ]
    },
    {
      "cell_type": "markdown",
      "metadata": {
        "id": "AoP-8qSrxCmx"
      },
      "source": [
        "Submissions are scored on the root mean squared error. RMSE is defined as:"
      ]
    },
    {
      "cell_type": "markdown",
      "metadata": {
        "id": "ab-OcliMw4bA"
      },
      "source": [
        "![image_1.PNG](data:image/png;base64,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)"
      ]
    },
    {
      "cell_type": "markdown",
      "metadata": {
        "id": "paGH2RQUxGVY"
      },
      "source": [
        "where ˆy is the predicted value, y is the original value, and n is the number of rows in\n",
        "the test data."
      ]
    },
    {
      "cell_type": "markdown",
      "metadata": {
        "id": "pyjuKFdIBWYK"
      },
      "source": [
        "Problem Statement:"
      ]
    },
    {
      "cell_type": "markdown",
      "metadata": {
        "id": "_4jtBgjawd1c"
      },
      "source": [
        "#Loading Data"
      ]
    },
    {
      "cell_type": "code",
      "metadata": {
        "colab": {
          "base_uri": "https://localhost:8080/",
          "height": 0
        },
        "id": "q5xWVI9Hk2nX",
        "outputId": "b08082ea-16bf-4e79-e0fb-e01eb39ca997"
      },
      "source": [
        "train_data = pd.read_csv('/content/drive/MyDrive/CS2/train.csv/train.csv')\n",
        "test_data = pd.read_csv('/content/drive/MyDrive/CS2/test.csv')\n",
        "\n",
        "# removing unused columns\n",
        "train_data.drop(['url_legal', 'license'], axis=1, inplace=True)\n",
        "test_data.drop(['url_legal', 'license'], axis=1, inplace=True)\n",
        "\n",
        "print('Number of train excerpts:',len(train_data))\n",
        "print('Number of test excerpts:',len(test_data))\n"
      ],
      "execution_count": 8,
      "outputs": [
        {
          "output_type": "stream",
          "text": [
            "Number of train excerpts: 2834\n",
            "Number of test excerpts: 7\n"
          ],
          "name": "stdout"
        }
      ]
    },
    {
      "cell_type": "code",
      "metadata": {
        "colab": {
          "base_uri": "https://localhost:8080/",
          "height": 206
        },
        "id": "PztNX767nCjB",
        "outputId": "ea956076-120e-4bd1-cb15-637340d64af5"
      },
      "source": [
        "train_data.head()"
      ],
      "execution_count": 9,
      "outputs": [
        {
          "output_type": "execute_result",
          "data": {
            "text/html": [
              "<div>\n",
              "<style scoped>\n",
              "    .dataframe tbody tr th:only-of-type {\n",
              "        vertical-align: middle;\n",
              "    }\n",
              "\n",
              "    .dataframe tbody tr th {\n",
              "        vertical-align: top;\n",
              "    }\n",
              "\n",
              "    .dataframe thead th {\n",
              "        text-align: right;\n",
              "    }\n",
              "</style>\n",
              "<table border=\"1\" class=\"dataframe\">\n",
              "  <thead>\n",
              "    <tr style=\"text-align: right;\">\n",
              "      <th></th>\n",
              "      <th>id</th>\n",
              "      <th>excerpt</th>\n",
              "      <th>target</th>\n",
              "      <th>standard_error</th>\n",
              "    </tr>\n",
              "  </thead>\n",
              "  <tbody>\n",
              "    <tr>\n",
              "      <th>0</th>\n",
              "      <td>c12129c31</td>\n",
              "      <td>When the young people returned to the ballroom...</td>\n",
              "      <td>-0.340259</td>\n",
              "      <td>0.464009</td>\n",
              "    </tr>\n",
              "    <tr>\n",
              "      <th>1</th>\n",
              "      <td>85aa80a4c</td>\n",
              "      <td>All through dinner time, Mrs. Fayre was somewh...</td>\n",
              "      <td>-0.315372</td>\n",
              "      <td>0.480805</td>\n",
              "    </tr>\n",
              "    <tr>\n",
              "      <th>2</th>\n",
              "      <td>b69ac6792</td>\n",
              "      <td>As Roger had predicted, the snow departed as q...</td>\n",
              "      <td>-0.580118</td>\n",
              "      <td>0.476676</td>\n",
              "    </tr>\n",
              "    <tr>\n",
              "      <th>3</th>\n",
              "      <td>dd1000b26</td>\n",
              "      <td>And outside before the palace a great garden w...</td>\n",
              "      <td>-1.054013</td>\n",
              "      <td>0.450007</td>\n",
              "    </tr>\n",
              "    <tr>\n",
              "      <th>4</th>\n",
              "      <td>37c1b32fb</td>\n",
              "      <td>Once upon a time there were Three Bears who li...</td>\n",
              "      <td>0.247197</td>\n",
              "      <td>0.510845</td>\n",
              "    </tr>\n",
              "  </tbody>\n",
              "</table>\n",
              "</div>"
            ],
            "text/plain": [
              "          id  ... standard_error\n",
              "0  c12129c31  ...       0.464009\n",
              "1  85aa80a4c  ...       0.480805\n",
              "2  b69ac6792  ...       0.476676\n",
              "3  dd1000b26  ...       0.450007\n",
              "4  37c1b32fb  ...       0.510845\n",
              "\n",
              "[5 rows x 4 columns]"
            ]
          },
          "metadata": {
            "tags": []
          },
          "execution_count": 9
        }
      ]
    },
    {
      "cell_type": "code",
      "metadata": {
        "colab": {
          "base_uri": "https://localhost:8080/",
          "height": 206
        },
        "id": "gNYALoKXyD-T",
        "outputId": "f6580ee0-47ad-465a-e635-b9c315291300"
      },
      "source": [
        "test_data.head()"
      ],
      "execution_count": 16,
      "outputs": [
        {
          "output_type": "execute_result",
          "data": {
            "text/html": [
              "<div>\n",
              "<style scoped>\n",
              "    .dataframe tbody tr th:only-of-type {\n",
              "        vertical-align: middle;\n",
              "    }\n",
              "\n",
              "    .dataframe tbody tr th {\n",
              "        vertical-align: top;\n",
              "    }\n",
              "\n",
              "    .dataframe thead th {\n",
              "        text-align: right;\n",
              "    }\n",
              "</style>\n",
              "<table border=\"1\" class=\"dataframe\">\n",
              "  <thead>\n",
              "    <tr style=\"text-align: right;\">\n",
              "      <th></th>\n",
              "      <th>id</th>\n",
              "      <th>excerpt</th>\n",
              "    </tr>\n",
              "  </thead>\n",
              "  <tbody>\n",
              "    <tr>\n",
              "      <th>0</th>\n",
              "      <td>c0f722661</td>\n",
              "      <td>My hope lay in Jack's promise that he would ke...</td>\n",
              "    </tr>\n",
              "    <tr>\n",
              "      <th>1</th>\n",
              "      <td>f0953f0a5</td>\n",
              "      <td>Dotty continued to go to Mrs. Gray's every nig...</td>\n",
              "    </tr>\n",
              "    <tr>\n",
              "      <th>2</th>\n",
              "      <td>0df072751</td>\n",
              "      <td>It was a bright and cheerful scene that greete...</td>\n",
              "    </tr>\n",
              "    <tr>\n",
              "      <th>3</th>\n",
              "      <td>04caf4e0c</td>\n",
              "      <td>Cell division is the process by which a parent...</td>\n",
              "    </tr>\n",
              "    <tr>\n",
              "      <th>4</th>\n",
              "      <td>0e63f8bea</td>\n",
              "      <td>Debugging is the process of finding and resolv...</td>\n",
              "    </tr>\n",
              "  </tbody>\n",
              "</table>\n",
              "</div>"
            ],
            "text/plain": [
              "          id                                            excerpt\n",
              "0  c0f722661  My hope lay in Jack's promise that he would ke...\n",
              "1  f0953f0a5  Dotty continued to go to Mrs. Gray's every nig...\n",
              "2  0df072751  It was a bright and cheerful scene that greete...\n",
              "3  04caf4e0c  Cell division is the process by which a parent...\n",
              "4  0e63f8bea  Debugging is the process of finding and resolv..."
            ]
          },
          "metadata": {
            "tags": []
          },
          "execution_count": 16
        }
      ]
    },
    {
      "cell_type": "markdown",
      "metadata": {
        "id": "ZKZ71vcfxzCq"
      },
      "source": [
        "#Data Description:"
      ]
    },
    {
      "cell_type": "markdown",
      "metadata": {
        "id": "RFNyUbbfx0bY"
      },
      "source": [
        "The train/test dataset contains below columns:\n",
        "\n",
        "● ID - unique ID for excerpt\n",
        "\n",
        "\n",
        "● excerpt - text to predict reading ease of\n",
        "\n",
        "● target - reading ease\n",
        "\n",
        "● standard_error - measure of spread of scores among multiple raters for each excerpt\n"
      ]
    },
    {
      "cell_type": "markdown",
      "metadata": {
        "id": "rTXSyYAttGev"
      },
      "source": [
        "#Distribution of Target :"
      ]
    },
    {
      "cell_type": "code",
      "metadata": {
        "colab": {
          "base_uri": "https://localhost:8080/",
          "height": 334
        },
        "id": "EItmW1AEnxc3",
        "outputId": "ee23c39d-7ba8-4e99-8596-c5bad1fd3db3"
      },
      "source": [
        "fig, ax = plt.subplots()\n",
        "sns.distplot(train_data['target'])\n",
        "plt.show()"
      ],
      "execution_count": 10,
      "outputs": [
        {
          "output_type": "stream",
          "text": [
            "/usr/local/lib/python3.7/dist-packages/seaborn/distributions.py:2557: FutureWarning: `distplot` is a deprecated function and will be removed in a future version. Please adapt your code to use either `displot` (a figure-level function with similar flexibility) or `histplot` (an axes-level function for histograms).\n",
            "  warnings.warn(msg, FutureWarning)\n"
          ],
          "name": "stderr"
        },
        {
          "output_type": "display_data",
          "data": {
            "image/png": "[encoded data removed]",
            "text/plain": [
              "<Figure size 432x288 with 1 Axes>"
            ]
          },
          "metadata": {
            "tags": [],
            "needs_background": "light"
          }
        }
      ]
    },
    {
      "cell_type": "markdown",
      "metadata": {
        "id": "IXKAs5httDWb"
      },
      "source": [
        "Observation:\n",
        "Target value is in range between -4 to +2.\n",
        "The distribution of targets between -2 & 0 is high."
      ]
    },
    {
      "cell_type": "markdown",
      "metadata": {
        "id": "CBcyU4fPv_PJ"
      },
      "source": [
        "#Distribution of Standard Error:"
      ]
    },
    {
      "cell_type": "code",
      "metadata": {
        "colab": {
          "base_uri": "https://localhost:8080/",
          "height": 335
        },
        "id": "FwLiXNSMq2lT",
        "outputId": "b3bcec09-c57d-4c89-f3dc-5212b5d53343"
      },
      "source": [
        "fig, ax = plt.subplots()\n",
        "sns.distplot(train_data['standard_error'])\n",
        "plt.show()"
      ],
      "execution_count": 12,
      "outputs": [
        {
          "output_type": "stream",
          "text": [
            "/usr/local/lib/python3.7/dist-packages/seaborn/distributions.py:2557: FutureWarning: `distplot` is a deprecated function and will be removed in a future version. Please adapt your code to use either `displot` (a figure-level function with similar flexibility) or `histplot` (an axes-level function for histograms).\n",
            "  warnings.warn(msg, FutureWarning)\n"
          ],
          "name": "stderr"
        },
        {
          "output_type": "display_data",
          "data": {
            "image/png": "[encoded data removed]",
            "text/plain": [
              "<Figure size 432x288 with 1 Axes>"
            ]
          },
          "metadata": {
            "tags": [],
            "needs_background": "light"
          }
        }
      ]
    },
    {
      "cell_type": "markdown",
      "metadata": {
        "id": "_3_QC8Ywtaw3"
      },
      "source": [
        "Observation:\n",
        "standard value is in range between 0.4 & 0.68\n"
      ]
    },
    {
      "cell_type": "markdown",
      "metadata": {
        "id": "78PAj_c2wChQ"
      },
      "source": [
        "#Distribution of Standard Error & Target"
      ]
    },
    {
      "cell_type": "code",
      "metadata": {
        "colab": {
          "base_uri": "https://localhost:8080/",
          "height": 279
        },
        "id": "ayMfmqd5uSue",
        "outputId": "e26a3202-7a9d-435a-f6a3-66dfc9961bbe"
      },
      "source": [
        "fig, ax = plt.subplots()\n",
        "sns.scatterplot(x=train_data['target'], y=train_data['standard_error'])\n",
        "plt.show()"
      ],
      "execution_count": 14,
      "outputs": [
        {
          "output_type": "display_data",
          "data": {
            "image/png": "[encoded data removed]",
            "text/plain": [
              "<Figure size 432x288 with 1 Axes>"
            ]
          },
          "metadata": {
            "tags": [],
            "needs_background": "light"
          }
        }
      ]
    },
    {
      "cell_type": "markdown",
      "metadata": {
        "id": "XgOS2VNovaT6"
      },
      "source": [
        "Observation:\n",
        "The target  values are having high standard errors with values greater than 1 and less than -3"
      ]
    },
    {
      "cell_type": "code",
      "metadata": {
        "id": "a5WewKadwJAE"
      },
      "source": [
        ""
      ],
      "execution_count": null,
      "outputs": []
    }
  ]
}
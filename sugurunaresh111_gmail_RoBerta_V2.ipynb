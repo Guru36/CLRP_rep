{
  "nbformat": 4,
  "nbformat_minor": 5,
  "metadata": {
    "kernelspec": {
      "display_name": "Python 3",
      "language": "python",
      "name": "python3"
    },
    "language_info": {
      "codemirror_mode": {
        "name": "ipython",
        "version": 3
      },
      "file_extension": ".py",
      "mimetype": "text/x-python",
      "name": "python",
      "nbconvert_exporter": "python",
      "pygments_lexer": "ipython3",
      "version": "3.7.10"
    },
    "papermill": {
      "default_parameters": {},
      "duration": 350.827685,
      "end_time": "2021-07-11T19:41:14.198101",
      "environment_variables": {},
      "exception": null,
      "input_path": "__notebook__.ipynb",
      "output_path": "__notebook__.ipynb",
      "parameters": {},
      "start_time": "2021-07-11T19:35:23.370416",
      "version": "2.3.3"
    },
    "colab": {
      "name": "sugurunaresh111@gmail_RoBerta_V2.ipynb",
      "provenance": [],
      "collapsed_sections": []
    }
  },
  "cells": [
    {
      "cell_type": "code",
      "metadata": {
        "execution": {
          "iopub.execute_input": "2021-07-11T19:35:29.843220Z",
          "iopub.status.busy": "2021-07-11T19:35:29.842645Z",
          "iopub.status.idle": "2021-07-11T19:35:35.571522Z",
          "shell.execute_reply": "2021-07-11T19:35:35.570922Z",
          "shell.execute_reply.started": "2021-07-11T19:17:08.819428Z"
        },
        "papermill": {
          "duration": 5.760651,
          "end_time": "2021-07-11T19:35:35.571672",
          "exception": false,
          "start_time": "2021-07-11T19:35:29.811021",
          "status": "completed"
        },
        "tags": [],
        "id": "limited-maria"
      },
      "source": [
        "import warnings\n",
        "warnings.filterwarnings(\"ignore\")\n",
        "import numpy as np\n",
        "import pandas as pd\n",
        "import seaborn as sns\n",
        "from tqdm import tqdm\n",
        "import os\n",
        "from matplotlib import pyplot as plt\n",
        "from sklearn.neighbors import KNeighborsRegressor\n",
        "from sklearn.feature_extraction.text import TfidfVectorizer\n",
        "from tensorflow.keras.layers import Input, Dense, Activation, Dropout\n",
        "from sklearn.feature_extraction.text import CountVectorizer\n",
        "from sklearn.metrics import mean_squared_error\n",
        "import re\n",
        "import tensorflow as tf\n",
        "import tensorflow_hub as hub\n",
        "from tensorflow.keras.models import Model\n",
        "\n",
        "from tensorflow.keras.layers import Dense, Input\n",
        "from tensorflow.keras.optimizers import Adam\n",
        "from tensorflow.keras.models import Model\n",
        "from tensorflow.keras.callbacks import ModelCheckpoint\n",
        "import transformers"
      ],
      "id": "limited-maria",
      "execution_count": null,
      "outputs": []
    },
    {
      "cell_type": "code",
      "metadata": {
        "execution": {
          "iopub.execute_input": "2021-07-11T19:35:35.614261Z",
          "iopub.status.busy": "2021-07-11T19:35:35.613712Z",
          "iopub.status.idle": "2021-07-11T19:35:35.617530Z",
          "shell.execute_reply": "2021-07-11T19:35:35.617138Z",
          "shell.execute_reply.started": "2021-07-11T19:17:13.157982Z"
        },
        "papermill": {
          "duration": 0.026415,
          "end_time": "2021-07-11T19:35:35.617637",
          "exception": false,
          "start_time": "2021-07-11T19:35:35.591222",
          "status": "completed"
        },
        "tags": [],
        "id": "inappropriate-color"
      },
      "source": [
        "MAX_LENGTH = 250\n",
        "LR = 0.000040\n",
        "AUTO = tf.data.experimental.AUTOTUNE\n",
        "lr= 2e-5\n",
        "wd=0.01"
      ],
      "id": "inappropriate-color",
      "execution_count": null,
      "outputs": []
    },
    {
      "cell_type": "code",
      "metadata": {
        "id": "_J71GllxlV2_"
      },
      "source": [
        "#ref:https://www.kaggle.com/bharadwajvedula/clr-lb-0-475-lazy-way-to-get-good-score"
      ],
      "id": "_J71GllxlV2_",
      "execution_count": null,
      "outputs": []
    },
    {
      "cell_type": "code",
      "metadata": {
        "execution": {
          "iopub.execute_input": "2021-07-11T19:35:35.663322Z",
          "iopub.status.busy": "2021-07-11T19:35:35.662739Z",
          "iopub.status.idle": "2021-07-11T19:35:35.758928Z",
          "shell.execute_reply": "2021-07-11T19:35:35.758420Z",
          "shell.execute_reply.started": "2021-07-11T19:17:15.315419Z"
        },
        "papermill": {
          "duration": 0.122556,
          "end_time": "2021-07-11T19:35:35.759067",
          "exception": false,
          "start_time": "2021-07-11T19:35:35.636511",
          "status": "completed"
        },
        "tags": [],
        "id": "incoming-lucas"
      },
      "source": [
        "train_data = pd.read_csv('../input/commonlitreadabilityprize/train.csv')\n",
        "test_data = pd.read_csv('../input/commonlitreadabilityprize/test.csv')\n",
        "\n",
        "# removing unused columns\n",
        "train_data.drop(['url_legal', 'license','standard_error'], axis=1, inplace=True)\n",
        "test_data.drop(['url_legal', 'license'], axis=1, inplace=True)\n",
        "\n",
        "from sklearn.model_selection import train_test_split\n",
        "X=train_data['excerpt']\n",
        "y=train_data['target']\n",
        "x_train, x_test, y_train, y_test = train_test_split(X, y, test_size=0.15,random_state=20)\n",
        "x_train, x_cv, y_train, y_cv = train_test_split(x_train, y_train, test_size=0.15,random_state=20)\n",
        "x_td=test_data['excerpt']"
      ],
      "id": "incoming-lucas",
      "execution_count": null,
      "outputs": []
    },
    {
      "cell_type": "code",
      "metadata": {
        "execution": {
          "iopub.execute_input": "2021-07-11T19:35:35.802654Z",
          "iopub.status.busy": "2021-07-11T19:35:35.801935Z",
          "iopub.status.idle": "2021-07-11T19:35:35.804704Z",
          "shell.execute_reply": "2021-07-11T19:35:35.804260Z",
          "shell.execute_reply.started": "2021-07-11T19:17:15.633379Z"
        },
        "papermill": {
          "duration": 0.02641,
          "end_time": "2021-07-11T19:35:35.804814",
          "exception": false,
          "start_time": "2021-07-11T19:35:35.778404",
          "status": "completed"
        },
        "tags": [],
        "id": "worst-admission"
      },
      "source": [
        "def batch_encode(tokenizer, texts, batch_size=256, max_length=MAX_LENGTH):\n",
        "    input_ids = []\n",
        "    for i in range(0, len(texts), batch_size):\n",
        "        batch = texts[i:i+batch_size]\n",
        "        inputs = tokenizer.batch_encode_plus(batch,max_length=max_length,padding='max_length',truncation=True)\n",
        "        input_ids.extend(inputs['input_ids'])\n",
        "    return tf.convert_to_tensor(input_ids)"
      ],
      "id": "worst-admission",
      "execution_count": null,
      "outputs": []
    },
    {
      "cell_type": "code",
      "metadata": {
        "execution": {
          "iopub.execute_input": "2021-07-11T19:35:35.846148Z",
          "iopub.status.busy": "2021-07-11T19:35:35.845533Z",
          "iopub.status.idle": "2021-07-11T19:35:50.912726Z",
          "shell.execute_reply": "2021-07-11T19:35:50.912226Z",
          "shell.execute_reply.started": "2021-07-11T19:17:15.957015Z"
        },
        "papermill": {
          "duration": 15.089238,
          "end_time": "2021-07-11T19:35:50.912874",
          "exception": false,
          "start_time": "2021-07-11T19:35:35.823636",
          "status": "completed"
        },
        "tags": [],
        "id": "specified-heating",
        "outputId": "75522123-4632-41f9-fa0b-36cb6185417a"
      },
      "source": [
        "from transformers import RobertaConfig, RobertaTokenizer, TFRobertaModel\n",
        "tokenizer = RobertaTokenizer.from_pretrained('../input/huggingface-roberta-variants/roberta-base/roberta-base')\n",
        "# RoBerta Model:\n",
        "#config = RobertaConfig(attention_probs_dropout_prob=0.2)\n",
        "RoBerta = TFRobertaModel.from_pretrained('../input/huggingface-roberta-variants/roberta-base/roberta-base')"
      ],
      "id": "specified-heating",
      "execution_count": null,
      "outputs": [
        {
          "output_type": "stream",
          "text": [
            "Some layers from the model checkpoint at ../input/huggingface-roberta-variants/roberta-base/roberta-base were not used when initializing TFRobertaModel: ['lm_head']\n",
            "- This IS expected if you are initializing TFRobertaModel from the checkpoint of a model trained on another task or with another architecture (e.g. initializing a BertForSequenceClassification model from a BertForPreTraining model).\n",
            "- This IS NOT expected if you are initializing TFRobertaModel from the checkpoint of a model that you expect to be exactly identical (initializing a BertForSequenceClassification model from a BertForSequenceClassification model).\n",
            "All the layers of TFRobertaModel were initialized from the model checkpoint at ../input/huggingface-roberta-variants/roberta-base/roberta-base.\n",
            "If your task is similar to the task the model of the checkpoint was trained on, you can already use TFRobertaModel for predictions without further training.\n"
          ],
          "name": "stderr"
        }
      ]
    },
    {
      "cell_type": "code",
      "metadata": {
        "execution": {
          "iopub.execute_input": "2021-07-11T19:35:50.964528Z",
          "iopub.status.busy": "2021-07-11T19:35:50.963693Z",
          "iopub.status.idle": "2021-07-11T19:35:50.967177Z",
          "shell.execute_reply": "2021-07-11T19:35:50.967609Z",
          "shell.execute_reply.started": "2021-07-11T19:17:26.276160Z"
        },
        "papermill": {
          "duration": 0.033637,
          "end_time": "2021-07-11T19:35:50.967762",
          "exception": false,
          "start_time": "2021-07-11T19:35:50.934125",
          "status": "completed"
        },
        "tags": [],
        "id": "fabulous-hostel"
      },
      "source": [
        "def build_model(transformer, max_length=MAX_LENGTH):\n",
        "    input_ids_layer = tf.keras.layers.Input(shape=(max_length,),name='input_ids',dtype='int32')\n",
        "    last_hidden_state = transformer(input_ids_layer)[0]\n",
        "    cls_token = last_hidden_state[:, 0, :]\n",
        "    output = tf.keras.layers.Dense(1,activation='linear',dtype = 'float32',kernel_initializer=tf.keras.initializers.GlorotNormal(seed=42))(cls_token)\n",
        "    model = tf.keras.Model(input_ids_layer, output)\n",
        "    model.compile(tf.keras.optimizers.Adam(lr = LR),  loss=tf.keras.losses.MeanSquaredError(),metrics=[tf.keras.metrics.RootMeanSquaredError()])\n",
        "    return model"
      ],
      "id": "fabulous-hostel",
      "execution_count": null,
      "outputs": []
    },
    {
      "cell_type": "code",
      "metadata": {
        "execution": {
          "iopub.execute_input": "2021-07-11T19:35:51.029477Z",
          "iopub.status.busy": "2021-07-11T19:35:51.027694Z",
          "iopub.status.idle": "2021-07-11T19:35:51.030269Z",
          "shell.execute_reply": "2021-07-11T19:35:51.030723Z",
          "shell.execute_reply.started": "2021-07-11T19:17:26.286240Z"
        },
        "papermill": {
          "duration": 0.039494,
          "end_time": "2021-07-11T19:35:51.030887",
          "exception": false,
          "start_time": "2021-07-11T19:35:50.991393",
          "status": "completed"
        },
        "tags": [],
        "id": "downtown-madison"
      },
      "source": [
        "def train_models_1():\n",
        "    import numpy as np\n",
        "    import random\n",
        "    from sklearn.model_selection import KFold\n",
        "    from tensorflow.keras import backend as K\n",
        "    models_list=[]\n",
        "    fold=0\n",
        "    seed=123\n",
        "    random.seed(seed)\n",
        "    np.random.seed(seed)\n",
        "    os.environ['PYTHONHASHSEED'] = str(seed)\n",
        "    tf.random.set_seed(seed)\n",
        "    kf=KFold(n_splits=3, random_state=seed, shuffle=True)\n",
        "\n",
        "    for train_index, test_index in kf.split(X):\n",
        "        K.clear_session()\n",
        "        fold=fold+1\n",
        "        print('fold:',fold)\n",
        "        x_train, x_cv = X[train_index], X[test_index]\n",
        "        y_train, y_cv = y[train_index], y[test_index] \n",
        "        x_train_ids = batch_encode(tokenizer, x_train.tolist())\n",
        "        x_cv_ids = batch_encode(tokenizer, x_cv.tolist()) \n",
        "\n",
        "        model=build_model(RoBerta,250)\n",
        "        EPOCHS = 1\n",
        "        BATCH_SIZE = 24\n",
        "        NUM_STEPS = len(x_train.index) // (BATCH_SIZE*16)\n",
        "\n",
        "        # Train the model\n",
        "        from keras.callbacks import EarlyStopping\n",
        "        early_stop_1=EarlyStopping(monitor='val_root_mean_squared_error',patience=7,restore_best_weights=True,mode='min')\n",
        "        checkpoint = tf.keras.callbacks.ModelCheckpoint('./Roberta_Base_'+str(fold)+'.h5', \n",
        "                                                monitor = 'val_root_mean_squared_error', \n",
        "                                                verbose = 2, \n",
        "                                                save_best_only = True,\n",
        "                                                save_weights_only = True, \n",
        "                                                mode = 'min')\n",
        "        model.fit(\n",
        "        x = x_train_ids,\n",
        "        y = y_train,\n",
        "        epochs = EPOCHS,\n",
        "        batch_size = BATCH_SIZE,\n",
        "        steps_per_epoch = NUM_STEPS,\n",
        "        validation_data = (x_cv_ids, y_cv),\n",
        "        verbose=1,callbacks=[checkpoint,early_stop_1]\n",
        "        )\n",
        "        models_list.append(model)\n",
        "    for i in range(len(models_list)):\n",
        "        models_list[i].save_weights('./reberta_model'+str(i)+'.h5')\n",
        "    return models_list\n"
      ],
      "id": "downtown-madison",
      "execution_count": null,
      "outputs": []
    },
    {
      "cell_type": "code",
      "metadata": {
        "execution": {
          "iopub.execute_input": "2021-07-11T19:35:51.081684Z",
          "iopub.status.busy": "2021-07-11T19:35:51.081116Z",
          "iopub.status.idle": "2021-07-11T19:35:51.085190Z",
          "shell.execute_reply": "2021-07-11T19:35:51.085629Z",
          "shell.execute_reply.started": "2021-07-11T19:17:26.301095Z"
        },
        "papermill": {
          "duration": 0.031078,
          "end_time": "2021-07-11T19:35:51.085779",
          "exception": false,
          "start_time": "2021-07-11T19:35:51.054701",
          "status": "completed"
        },
        "tags": [],
        "id": "solved-accreditation"
      },
      "source": [
        "models_list=train_models_1()"
      ],
      "id": "solved-accreditation",
      "execution_count": null,
      "outputs": []
    },
    {
      "cell_type": "code",
      "metadata": {
        "execution": {
          "iopub.execute_input": "2021-07-11T19:35:51.255631Z",
          "iopub.status.busy": "2021-07-11T19:35:51.254821Z",
          "iopub.status.idle": "2021-07-11T19:35:56.697823Z",
          "shell.execute_reply": "2021-07-11T19:35:56.696987Z",
          "shell.execute_reply.started": "2021-07-11T19:17:26.312103Z"
        },
        "papermill": {
          "duration": 5.467917,
          "end_time": "2021-07-11T19:35:56.697984",
          "exception": false,
          "start_time": "2021-07-11T19:35:51.230067",
          "status": "completed"
        },
        "tags": [],
        "id": "cathedral-puzzle"
      },
      "source": [
        "max_len=250\n",
        "#print('tokenization')\n",
        "train_embeddings = tokenizer(X.to_list(), truncation = True , padding = 'max_length' , max_length=max_len)\n",
        "test_embeddings = tokenizer(x_td.to_list() , truncation = True , padding = 'max_length' , max_length = max_len)"
      ],
      "id": "cathedral-puzzle",
      "execution_count": null,
      "outputs": []
    },
    {
      "cell_type": "code",
      "metadata": {
        "execution": {
          "iopub.execute_input": "2021-07-11T19:35:56.742432Z",
          "iopub.status.busy": "2021-07-11T19:35:56.741698Z",
          "iopub.status.idle": "2021-07-11T19:35:56.744370Z",
          "shell.execute_reply": "2021-07-11T19:35:56.743885Z",
          "shell.execute_reply.started": "2021-07-11T19:17:31.119167Z"
        },
        "papermill": {
          "duration": 0.026308,
          "end_time": "2021-07-11T19:35:56.744484",
          "exception": false,
          "start_time": "2021-07-11T19:35:56.718176",
          "status": "completed"
        },
        "tags": [],
        "id": "funny-classroom"
      },
      "source": [
        "AUTOTUNE = tf.data.AUTOTUNE"
      ],
      "id": "funny-classroom",
      "execution_count": null,
      "outputs": []
    },
    {
      "cell_type": "code",
      "metadata": {
        "execution": {
          "iopub.execute_input": "2021-07-11T19:35:56.829655Z",
          "iopub.status.busy": "2021-07-11T19:35:56.814293Z",
          "iopub.status.idle": "2021-07-11T19:36:00.918196Z",
          "shell.execute_reply": "2021-07-11T19:36:00.917718Z",
          "shell.execute_reply.started": "2021-07-11T19:17:31.125937Z"
        },
        "papermill": {
          "duration": 4.154099,
          "end_time": "2021-07-11T19:36:00.918324",
          "exception": false,
          "start_time": "2021-07-11T19:35:56.764225",
          "status": "completed"
        },
        "tags": [],
        "id": "delayed-istanbul",
        "outputId": "de551458-d821-423c-d12a-3f37f295410d"
      },
      "source": [
        "@tf.function\n",
        "\n",
        "def map_function(encodings):\n",
        "    input_ids = encodings['input_ids']\n",
        "    \n",
        "    return {'input_word_ids': input_ids}\n",
        "\n",
        "print(\"generating train and test\")    \n",
        "train = tf.data.Dataset.from_tensor_slices((train_embeddings))\n",
        "train = (\n",
        "            train\n",
        "            .map(map_function, num_parallel_calls=AUTOTUNE)\n",
        "            .batch(16)\n",
        "            .prefetch(AUTOTUNE)\n",
        "        )\n",
        "\n",
        "\n",
        "test = tf.data.Dataset.from_tensor_slices((test_embeddings))\n",
        "test = (\n",
        "        test\n",
        "        .map(map_function, num_parallel_calls = AUTOTUNE)\n",
        "        .batch(16)\n",
        "        .prefetch(AUTOTUNE)\n",
        "    )"
      ],
      "id": "delayed-istanbul",
      "execution_count": null,
      "outputs": [
        {
          "output_type": "stream",
          "text": [
            "generating train and test\n"
          ],
          "name": "stdout"
        }
      ]
    },
    {
      "cell_type": "code",
      "metadata": {
        "execution": {
          "iopub.execute_input": "2021-07-11T19:36:00.964610Z",
          "iopub.status.busy": "2021-07-11T19:36:00.963758Z",
          "iopub.status.idle": "2021-07-11T19:36:00.966435Z",
          "shell.execute_reply": "2021-07-11T19:36:00.965976Z",
          "shell.execute_reply.started": "2021-07-11T19:17:35.639832Z"
        },
        "papermill": {
          "duration": 0.027657,
          "end_time": "2021-07-11T19:36:00.966547",
          "exception": false,
          "start_time": "2021-07-11T19:36:00.938890",
          "status": "completed"
        },
        "tags": [],
        "id": "cloudy-disabled"
      },
      "source": [
        "def build_roberta_base_model(max_length=max_len):\n",
        "    transformer = TFRobertaModel.from_pretrained(\"../input/huggingface-roberta-variants/roberta-base/roberta-base\")\n",
        "    input_ids_layer = tf.keras.layers.Input(shape=(max_length,),name='input_word_ids',dtype=tf.int32)\n",
        "    last_hidden_state = transformer(input_ids_layer)[0]\n",
        "    cls_token = last_hidden_state[:, 0, :]\n",
        "    output = tf.keras.layers.Dense(1,activation='linear',dtype = 'float32')(cls_token)\n",
        "    model = tf.keras.Model(input_ids_layer, output)\n",
        "    #model.compile(tf.keras.optimizers.Adam(lr = LR),  loss=tf.keras.losses.MeanSquaredError(),metrics=[tf.keras.metrics.RootMeanSquaredError()])\n",
        "    return model"
      ],
      "id": "cloudy-disabled",
      "execution_count": null,
      "outputs": []
    },
    {
      "cell_type": "code",
      "metadata": {
        "execution": {
          "iopub.execute_input": "2021-07-11T19:36:01.055078Z",
          "iopub.status.busy": "2021-07-11T19:36:01.054219Z",
          "iopub.status.idle": "2021-07-11T19:36:01.056755Z",
          "shell.execute_reply": "2021-07-11T19:36:01.056345Z",
          "shell.execute_reply.started": "2021-07-11T19:17:35.648905Z"
        },
        "papermill": {
          "duration": 0.030169,
          "end_time": "2021-07-11T19:36:01.056883",
          "exception": false,
          "start_time": "2021-07-11T19:36:01.026714",
          "status": "completed"
        },
        "tags": [],
        "id": "narrative-airport"
      },
      "source": [
        "def get_preds(path,train,test):\n",
        "    print(\"loading weights\")\n",
        "    ragnar_model=build_roberta_base_model(250)\n",
        "    ragnar_model.load_weights(path)\n",
        "    x= ragnar_model.layers[-3].output\n",
        "    model = Model(inputs = ragnar_model.inputs , outputs = x)\n",
        "    print(\"Extracting Features from train data\")\n",
        "    train_features = model.predict( train , verbose =1)\n",
        "    train_features = train_features.last_hidden_state\n",
        "    train_features = train_features[: , 0 , :]\n",
        "    print(\"Extracting Features from train data\")\n",
        "    test_features = model.predict( test , verbose =1)\n",
        "    test_features = test_features.last_hidden_state\n",
        "    test_features = test_features[: , 0 , :]\n",
        "    \n",
        "    return np.array(train_features , dtype= np.float16) , np.array(test_features , dtype= np.float16) "
      ],
      "id": "narrative-airport",
      "execution_count": null,
      "outputs": []
    },
    {
      "cell_type": "code",
      "metadata": {
        "execution": {
          "iopub.execute_input": "2021-07-11T19:36:01.101740Z",
          "iopub.status.busy": "2021-07-11T19:36:01.100961Z",
          "iopub.status.idle": "2021-07-11T19:36:01.112959Z",
          "shell.execute_reply": "2021-07-11T19:36:01.112530Z",
          "shell.execute_reply.started": "2021-07-11T19:17:35.659983Z"
        },
        "papermill": {
          "duration": 0.036076,
          "end_time": "2021-07-11T19:36:01.113080",
          "exception": false,
          "start_time": "2021-07-11T19:36:01.077004",
          "status": "completed"
        },
        "tags": [],
        "id": "opposed-hughes"
      },
      "source": [
        "x_td_ids = batch_encode(tokenizer, x_td.tolist())\n",
        "#models_list[0].predict(x_td_ids)"
      ],
      "id": "opposed-hughes",
      "execution_count": null,
      "outputs": []
    },
    {
      "cell_type": "code",
      "metadata": {
        "execution": {
          "iopub.execute_input": "2021-07-11T19:36:01.156148Z",
          "iopub.status.busy": "2021-07-11T19:36:01.155496Z",
          "iopub.status.idle": "2021-07-11T19:36:01.158234Z",
          "shell.execute_reply": "2021-07-11T19:36:01.157718Z",
          "shell.execute_reply.started": "2021-07-11T19:17:35.681259Z"
        },
        "papermill": {
          "duration": 0.025323,
          "end_time": "2021-07-11T19:36:01.158340",
          "exception": false,
          "start_time": "2021-07-11T19:36:01.133017",
          "status": "completed"
        },
        "tags": [],
        "id": "important-colonial"
      },
      "source": [
        "#model_rb=build_model(RoBerta,250)\n",
        "#model_rb.load_weights('./reberta_model0.h5')\n",
        "#model1.compile(tf.keras.optimizers.Adam(lr = LR),  loss=tf.keras.losses.MeanSquaredError(),metrics=[tf.keras.metrics.RootMeanSquaredError()])\n",
        "#model_rb.predict(x_td_ids)"
      ],
      "id": "important-colonial",
      "execution_count": null,
      "outputs": []
    },
    {
      "cell_type": "code",
      "metadata": {
        "execution": {
          "iopub.execute_input": "2021-07-11T19:36:01.201544Z",
          "iopub.status.busy": "2021-07-11T19:36:01.200806Z",
          "iopub.status.idle": "2021-07-11T19:36:01.203070Z",
          "shell.execute_reply": "2021-07-11T19:36:01.203431Z",
          "shell.execute_reply.started": "2021-07-11T19:17:35.687543Z"
        },
        "papermill": {
          "duration": 0.0255,
          "end_time": "2021-07-11T19:36:01.203552",
          "exception": false,
          "start_time": "2021-07-11T19:36:01.178052",
          "status": "completed"
        },
        "tags": [],
        "id": "adjacent-virginia"
      },
      "source": [
        "#model weight paths\n",
        "paths=[\"../input/roberta-v1/Roberta_Base_1.h5\",\n",
        "       \"../input/roberta-v1/Roberta_Base_2.h5\",\n",
        "       \"../input/roberta-v1/Roberta_Base_3.h5\",\n",
        "       \"../input/roberta-v1/Roberta_Base_4.h5\",\n",
        "       \"../input/roberta-v1/Roberta_Base_5.h5\"\n",
        "      ]"
      ],
      "id": "adjacent-virginia",
      "execution_count": null,
      "outputs": []
    },
    {
      "cell_type": "code",
      "metadata": {
        "execution": {
          "iopub.execute_input": "2021-07-11T19:36:01.247564Z",
          "iopub.status.busy": "2021-07-11T19:36:01.247063Z",
          "iopub.status.idle": "2021-07-11T19:40:19.777140Z",
          "shell.execute_reply": "2021-07-11T19:40:19.777606Z",
          "shell.execute_reply.started": "2021-07-11T19:17:35.696270Z"
        },
        "papermill": {
          "duration": 258.554384,
          "end_time": "2021-07-11T19:40:19.777771",
          "exception": false,
          "start_time": "2021-07-11T19:36:01.223387",
          "status": "completed"
        },
        "tags": [],
        "id": "guilty-michael",
        "outputId": "c988a6b1-5585-46d0-d03a-3995384bedf4"
      },
      "source": [
        "train_embeddings1 , test_embeddings1 = get_preds(paths[0] , train , test)\n",
        "train_embeddings2 , test_embeddings2 = get_preds(paths[1] , train , test)\n",
        "train_embeddings3 , test_embeddings3 = get_preds(paths[2] , train , test)\n",
        "train_embeddings4 , test_embeddings4 = get_preds(paths[3] , train , test)\n",
        "train_embeddings5 , test_embeddings5 = get_preds(paths[4] , train , test)"
      ],
      "id": "guilty-michael",
      "execution_count": null,
      "outputs": [
        {
          "output_type": "stream",
          "text": [
            "loading weights\n"
          ],
          "name": "stdout"
        },
        {
          "output_type": "stream",
          "text": [
            "Some layers from the model checkpoint at ../input/huggingface-roberta-variants/roberta-base/roberta-base were not used when initializing TFRobertaModel: ['lm_head']\n",
            "- This IS expected if you are initializing TFRobertaModel from the checkpoint of a model trained on another task or with another architecture (e.g. initializing a BertForSequenceClassification model from a BertForPreTraining model).\n",
            "- This IS NOT expected if you are initializing TFRobertaModel from the checkpoint of a model that you expect to be exactly identical (initializing a BertForSequenceClassification model from a BertForSequenceClassification model).\n",
            "All the layers of TFRobertaModel were initialized from the model checkpoint at ../input/huggingface-roberta-variants/roberta-base/roberta-base.\n",
            "If your task is similar to the task the model of the checkpoint was trained on, you can already use TFRobertaModel for predictions without further training.\n"
          ],
          "name": "stderr"
        },
        {
          "output_type": "stream",
          "text": [
            "Extracting Features from train data\n",
            "178/178 [==============================] - 34s 177ms/step\n",
            "Extracting Features from train data\n",
            "1/1 [==============================] - 0s 156ms/step\n",
            "loading weights\n"
          ],
          "name": "stdout"
        },
        {
          "output_type": "stream",
          "text": [
            "Some layers from the model checkpoint at ../input/huggingface-roberta-variants/roberta-base/roberta-base were not used when initializing TFRobertaModel: ['lm_head']\n",
            "- This IS expected if you are initializing TFRobertaModel from the checkpoint of a model trained on another task or with another architecture (e.g. initializing a BertForSequenceClassification model from a BertForPreTraining model).\n",
            "- This IS NOT expected if you are initializing TFRobertaModel from the checkpoint of a model that you expect to be exactly identical (initializing a BertForSequenceClassification model from a BertForSequenceClassification model).\n",
            "All the layers of TFRobertaModel were initialized from the model checkpoint at ../input/huggingface-roberta-variants/roberta-base/roberta-base.\n",
            "If your task is similar to the task the model of the checkpoint was trained on, you can already use TFRobertaModel for predictions without further training.\n"
          ],
          "name": "stderr"
        },
        {
          "output_type": "stream",
          "text": [
            "Extracting Features from train data\n",
            "178/178 [==============================] - 35s 181ms/step\n",
            "Extracting Features from train data\n",
            "1/1 [==============================] - 0s 167ms/step\n",
            "loading weights\n"
          ],
          "name": "stdout"
        },
        {
          "output_type": "stream",
          "text": [
            "Some layers from the model checkpoint at ../input/huggingface-roberta-variants/roberta-base/roberta-base were not used when initializing TFRobertaModel: ['lm_head']\n",
            "- This IS expected if you are initializing TFRobertaModel from the checkpoint of a model trained on another task or with another architecture (e.g. initializing a BertForSequenceClassification model from a BertForPreTraining model).\n",
            "- This IS NOT expected if you are initializing TFRobertaModel from the checkpoint of a model that you expect to be exactly identical (initializing a BertForSequenceClassification model from a BertForSequenceClassification model).\n",
            "All the layers of TFRobertaModel were initialized from the model checkpoint at ../input/huggingface-roberta-variants/roberta-base/roberta-base.\n",
            "If your task is similar to the task the model of the checkpoint was trained on, you can already use TFRobertaModel for predictions without further training.\n"
          ],
          "name": "stderr"
        },
        {
          "output_type": "stream",
          "text": [
            "Extracting Features from train data\n",
            "178/178 [==============================] - 35s 181ms/step\n",
            "Extracting Features from train data\n",
            "1/1 [==============================] - 0s 176ms/step\n",
            "loading weights\n"
          ],
          "name": "stdout"
        },
        {
          "output_type": "stream",
          "text": [
            "Some layers from the model checkpoint at ../input/huggingface-roberta-variants/roberta-base/roberta-base were not used when initializing TFRobertaModel: ['lm_head']\n",
            "- This IS expected if you are initializing TFRobertaModel from the checkpoint of a model trained on another task or with another architecture (e.g. initializing a BertForSequenceClassification model from a BertForPreTraining model).\n",
            "- This IS NOT expected if you are initializing TFRobertaModel from the checkpoint of a model that you expect to be exactly identical (initializing a BertForSequenceClassification model from a BertForSequenceClassification model).\n",
            "All the layers of TFRobertaModel were initialized from the model checkpoint at ../input/huggingface-roberta-variants/roberta-base/roberta-base.\n",
            "If your task is similar to the task the model of the checkpoint was trained on, you can already use TFRobertaModel for predictions without further training.\n"
          ],
          "name": "stderr"
        },
        {
          "output_type": "stream",
          "text": [
            "Extracting Features from train data\n",
            "178/178 [==============================] - 34s 177ms/step\n",
            "Extracting Features from train data\n",
            "1/1 [==============================] - 0s 105ms/step\n",
            "loading weights\n"
          ],
          "name": "stdout"
        },
        {
          "output_type": "stream",
          "text": [
            "Some layers from the model checkpoint at ../input/huggingface-roberta-variants/roberta-base/roberta-base were not used when initializing TFRobertaModel: ['lm_head']\n",
            "- This IS expected if you are initializing TFRobertaModel from the checkpoint of a model trained on another task or with another architecture (e.g. initializing a BertForSequenceClassification model from a BertForPreTraining model).\n",
            "- This IS NOT expected if you are initializing TFRobertaModel from the checkpoint of a model that you expect to be exactly identical (initializing a BertForSequenceClassification model from a BertForSequenceClassification model).\n",
            "All the layers of TFRobertaModel were initialized from the model checkpoint at ../input/huggingface-roberta-variants/roberta-base/roberta-base.\n",
            "If your task is similar to the task the model of the checkpoint was trained on, you can already use TFRobertaModel for predictions without further training.\n"
          ],
          "name": "stderr"
        },
        {
          "output_type": "stream",
          "text": [
            "Extracting Features from train data\n",
            "178/178 [==============================] - 34s 177ms/step\n",
            "Extracting Features from train data\n",
            "1/1 [==============================] - 0s 138ms/step\n"
          ],
          "name": "stdout"
        }
      ]
    },
    {
      "cell_type": "code",
      "metadata": {
        "execution": {
          "iopub.execute_input": "2021-07-11T19:40:21.015964Z",
          "iopub.status.busy": "2021-07-11T19:40:21.014518Z",
          "iopub.status.idle": "2021-07-11T19:40:21.016835Z",
          "shell.execute_reply": "2021-07-11T19:40:21.017257Z",
          "shell.execute_reply.started": "2021-07-11T19:21:48.683494Z"
        },
        "papermill": {
          "duration": 0.258517,
          "end_time": "2021-07-11T19:40:21.017395",
          "exception": false,
          "start_time": "2021-07-11T19:40:20.758878",
          "status": "completed"
        },
        "tags": [],
        "id": "prime-tiffany"
      },
      "source": [
        "from sklearn.model_selection import KFold,StratifiedKFold,train_test_split\n",
        "SEED=123\n",
        "from sklearn.linear_model import LinearRegression, Ridge\n",
        "from sklearn.metrics import mean_squared_error as mse"
      ],
      "id": "prime-tiffany",
      "execution_count": null,
      "outputs": []
    },
    {
      "cell_type": "code",
      "metadata": {
        "execution": {
          "iopub.execute_input": "2021-07-11T19:40:25.062817Z",
          "iopub.status.busy": "2021-07-11T19:40:25.062253Z",
          "iopub.status.idle": "2021-07-11T19:40:25.065130Z",
          "shell.execute_reply": "2021-07-11T19:40:25.064712Z",
          "shell.execute_reply.started": "2021-07-11T19:33:56.042679Z"
        },
        "papermill": {
          "duration": 0.26662,
          "end_time": "2021-07-11T19:40:25.065243",
          "exception": false,
          "start_time": "2021-07-11T19:40:24.798623",
          "status": "completed"
        },
        "tags": [],
        "id": "answering-bacon"
      },
      "source": [
        "def get_preds_2(train_embeddings , test_embeddings):\n",
        "    \n",
        "    scores=[]\n",
        "    kfold = KFold(n_splits=5, shuffle= True , random_state= SEED)\n",
        "    iteration=1\n",
        "    preds = np.zeros((test_embeddings.shape[0]))\n",
        "    for train_idx, test_idx in kfold.split(train_embeddings,y):\n",
        "        print(f'running iteration {iteration}')\n",
        "        X_train = train_embeddings[train_idx]\n",
        "        X_test = train_embeddings[test_idx]\n",
        "        y_train = y[train_idx]\n",
        "        y_test = y[test_idx]\n",
        "\n",
        "        #regression_model = Ridge()\n",
        "        from sklearn.svm import SVR\n",
        "        from sklearn.ensemble import RandomForestRegressor\n",
        "        from catboost import CatBoostRegressor\n",
        "        regression_model = SVR(C=25,kernel='rbf')\n",
        "        regression_model.fit(X_train,y_train)\n",
        "        y_pred = regression_model.predict(X_test)\n",
        "\n",
        "        score = np.sqrt(mse(y_pred,y_test))\n",
        "        scores.append(score)\n",
        "        print(f'Fold {iteration} , rmse score: {score}')\n",
        "        y_preds = regression_model.predict(test_embeddings)\n",
        "        y_preds=y_preds.reshape(-1)\n",
        "        preds+=y_preds  \n",
        "        iteration += 1\n",
        "\n",
        "    print(f\"the average rmse is {np.mean(scores)}\")\n",
        "    return np.array(preds)/5  "
      ],
      "id": "answering-bacon",
      "execution_count": null,
      "outputs": []
    },
    {
      "cell_type": "code",
      "metadata": {
        "execution": {
          "iopub.execute_input": "2021-07-11T19:40:25.581977Z",
          "iopub.status.busy": "2021-07-11T19:40:25.581051Z",
          "iopub.status.idle": "2021-07-11T19:41:09.605347Z",
          "shell.execute_reply": "2021-07-11T19:41:09.605895Z",
          "shell.execute_reply.started": "2021-07-11T19:33:56.466553Z"
        },
        "papermill": {
          "duration": 44.286853,
          "end_time": "2021-07-11T19:41:09.606102",
          "exception": false,
          "start_time": "2021-07-11T19:40:25.319249",
          "status": "completed"
        },
        "tags": [],
        "id": "expanded-smile",
        "outputId": "d50bdefd-ce2d-418c-9a25-780f728f589b"
      },
      "source": [
        "print(\"***********predicting***********\")\n",
        "preds1 = get_preds_2(train_embeddings1,test_embeddings1)\n",
        "print(\"***********predicting***********\")\n",
        "preds2 = get_preds_2(train_embeddings2,test_embeddings2)\n",
        "print(\"***********predicting***********\")\n",
        "preds3 = get_preds_2(train_embeddings3,test_embeddings3)\n",
        "print(\"***********predicting***********\")\n",
        "preds4 = get_preds_2(train_embeddings4,test_embeddings4)\n",
        "print(\"***********predicting***********\")\n",
        "preds5 = get_preds_2(train_embeddings5,test_embeddings5)"
      ],
      "id": "expanded-smile",
      "execution_count": null,
      "outputs": [
        {
          "output_type": "stream",
          "text": [
            "***********predicting***********\n",
            "running iteration 1\n",
            "Fold 1 , rmse score: 0.5006730648089416\n",
            "running iteration 2\n",
            "Fold 2 , rmse score: 0.3734255933093291\n",
            "running iteration 3\n",
            "Fold 3 , rmse score: 0.38327015220420174\n",
            "running iteration 4\n",
            "Fold 4 , rmse score: 0.38920561412518434\n",
            "running iteration 5\n",
            "Fold 5 , rmse score: 0.3763602497765708\n",
            "the average rmse is 0.40458693484484554\n",
            "***********predicting***********\n",
            "running iteration 1\n",
            "Fold 1 , rmse score: 0.4569465281444052\n",
            "running iteration 2\n",
            "Fold 2 , rmse score: 0.40446301496210263\n",
            "running iteration 3\n",
            "Fold 3 , rmse score: 0.37185419444438694\n",
            "running iteration 4\n",
            "Fold 4 , rmse score: 0.3600748627763718\n",
            "running iteration 5\n",
            "Fold 5 , rmse score: 0.3614864472572959\n",
            "the average rmse is 0.3909650095169125\n",
            "***********predicting***********\n",
            "running iteration 1\n",
            "Fold 1 , rmse score: 0.4429892391721204\n",
            "running iteration 2\n",
            "Fold 2 , rmse score: 0.4033752355404781\n",
            "running iteration 3\n",
            "Fold 3 , rmse score: 0.3910750311099624\n",
            "running iteration 4\n",
            "Fold 4 , rmse score: 0.3557541957455807\n",
            "running iteration 5\n",
            "Fold 5 , rmse score: 0.35987477426585335\n",
            "the average rmse is 0.390613695166799\n",
            "***********predicting***********\n",
            "running iteration 1\n",
            "Fold 1 , rmse score: 0.43873928631205333\n",
            "running iteration 2\n",
            "Fold 2 , rmse score: 0.40087653288364383\n",
            "running iteration 3\n",
            "Fold 3 , rmse score: 0.39032267887195093\n",
            "running iteration 4\n",
            "Fold 4 , rmse score: 0.35963062795785694\n",
            "running iteration 5\n",
            "Fold 5 , rmse score: 0.3563247363334744\n",
            "the average rmse is 0.38917877247179594\n",
            "***********predicting***********\n",
            "running iteration 1\n",
            "Fold 1 , rmse score: 0.39400068172542163\n",
            "running iteration 2\n",
            "Fold 2 , rmse score: 0.3570472716992527\n",
            "running iteration 3\n",
            "Fold 3 , rmse score: 0.35205034504331373\n",
            "running iteration 4\n",
            "Fold 4 , rmse score: 0.3281969380756482\n",
            "running iteration 5\n",
            "Fold 5 , rmse score: 0.3524423045587551\n",
            "the average rmse is 0.35674750822047824\n"
          ],
          "name": "stdout"
        }
      ]
    },
    {
      "cell_type": "code",
      "metadata": {
        "execution": {
          "iopub.execute_input": "2021-07-11T19:41:10.129682Z",
          "iopub.status.busy": "2021-07-11T19:41:10.128752Z",
          "iopub.status.idle": "2021-07-11T19:41:10.131468Z",
          "shell.execute_reply": "2021-07-11T19:41:10.131048Z",
          "shell.execute_reply.started": "2021-07-11T18:23:18.097728Z"
        },
        "papermill": {
          "duration": 0.266263,
          "end_time": "2021-07-11T19:41:10.131572",
          "exception": false,
          "start_time": "2021-07-11T19:41:09.865309",
          "status": "completed"
        },
        "tags": [],
        "id": "european-former"
      },
      "source": [
        "preds=(preds1+preds2+preds3+preds4+preds5)/5\n",
        "preds = preds.tolist()"
      ],
      "id": "european-former",
      "execution_count": null,
      "outputs": []
    },
    {
      "cell_type": "code",
      "metadata": {
        "execution": {
          "iopub.execute_input": "2021-07-11T19:41:10.697009Z",
          "iopub.status.busy": "2021-07-11T19:41:10.696431Z",
          "iopub.status.idle": "2021-07-11T19:41:10.859422Z",
          "shell.execute_reply": "2021-07-11T19:41:10.859800Z",
          "shell.execute_reply.started": "2021-07-11T18:23:18.956253Z"
        },
        "papermill": {
          "duration": 0.469473,
          "end_time": "2021-07-11T19:41:10.859980",
          "exception": false,
          "start_time": "2021-07-11T19:41:10.390507",
          "status": "completed"
        },
        "tags": [],
        "id": "coordinate-emergency",
        "outputId": "b548494d-a0e8-4551-f1c2-fc5a851a316c"
      },
      "source": [
        "sub=pd.DataFrame({'id':test_data['id'],'target':preds})\n",
        "sub.to_csv('submission.csv',index=False)\n",
        "sub.head()"
      ],
      "id": "coordinate-emergency",
      "execution_count": null,
      "outputs": [
        {
          "output_type": "execute_result",
          "data": {
            "text/html": [
              "<div>\n",
              "<style scoped>\n",
              "    .dataframe tbody tr th:only-of-type {\n",
              "        vertical-align: middle;\n",
              "    }\n",
              "\n",
              "    .dataframe tbody tr th {\n",
              "        vertical-align: top;\n",
              "    }\n",
              "\n",
              "    .dataframe thead th {\n",
              "        text-align: right;\n",
              "    }\n",
              "</style>\n",
              "<table border=\"1\" class=\"dataframe\">\n",
              "  <thead>\n",
              "    <tr style=\"text-align: right;\">\n",
              "      <th></th>\n",
              "      <th>id</th>\n",
              "      <th>target</th>\n",
              "    </tr>\n",
              "  </thead>\n",
              "  <tbody>\n",
              "    <tr>\n",
              "      <th>0</th>\n",
              "      <td>c0f722661</td>\n",
              "      <td>-0.807744</td>\n",
              "    </tr>\n",
              "    <tr>\n",
              "      <th>1</th>\n",
              "      <td>f0953f0a5</td>\n",
              "      <td>-0.454447</td>\n",
              "    </tr>\n",
              "    <tr>\n",
              "      <th>2</th>\n",
              "      <td>0df072751</td>\n",
              "      <td>-0.497256</td>\n",
              "    </tr>\n",
              "    <tr>\n",
              "      <th>3</th>\n",
              "      <td>04caf4e0c</td>\n",
              "      <td>-2.716378</td>\n",
              "    </tr>\n",
              "    <tr>\n",
              "      <th>4</th>\n",
              "      <td>0e63f8bea</td>\n",
              "      <td>-1.946026</td>\n",
              "    </tr>\n",
              "  </tbody>\n",
              "</table>\n",
              "</div>"
            ],
            "text/plain": [
              "          id    target\n",
              "0  c0f722661 -0.807744\n",
              "1  f0953f0a5 -0.454447\n",
              "2  0df072751 -0.497256\n",
              "3  04caf4e0c -2.716378\n",
              "4  0e63f8bea -1.946026"
            ]
          },
          "metadata": {
            "tags": []
          },
          "execution_count": 24
        }
      ]
    },
    {
      "cell_type": "markdown",
      "metadata": {
        "id": "qhLutF16ln3J"
      },
      "source": [
        "![image.png](data:image/png;base64,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)"
      ],
      "id": "qhLutF16ln3J"
    }
  ]
}